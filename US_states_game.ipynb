{
 "cells": [
  {
   "cell_type": "markdown",
   "metadata": {},
   "source": [
    "# US STATES GAME"
   ]
  },
  {
   "cell_type": "code",
   "execution_count": null,
   "metadata": {},
   "outputs": [],
   "source": [
    "import turtle\n",
    "from turtle import Turtle\n",
    "import pandas as pd\n",
    "\n",
    "data = pd.read_csv('50_states.csv')\n",
    "all_states = data.state.to_list()\n",
    "\n",
    "\n",
    "\n",
    "# collect all correct answers\n",
    "all_correct_answers = []\n",
    "\n",
    "\n",
    "screen = turtle.Screen()\n",
    "#screen.hideturtle()\n",
    "screen.title(\"US States Game\")\n",
    "image = 'blank_states_img.gif'\n",
    "screen.addshape(image)\n",
    "turtle.shape(image)\n",
    "\n",
    "state = Turtle()\n",
    "state.hideturtle()\n",
    "\n",
    "game_is_on = True\n",
    "while game_is_on:\n",
    "    \n",
    "    answer_state = screen.textinput(title = f\"{len(all_correct_answers)}/50 States correct\", prompt = \"What is another State's name\").title()\n",
    "\n",
    "    # detect repeatedly entered states\n",
    "    if answer_state in all_correct_answers:\n",
    "        continue\n",
    "    \n",
    "    # check whether state is in  50 states\n",
    "    if answer_state in all_states:\n",
    "        index_answer_state = all_states.index(answer_state)\n",
    "        x_cor = data.x[index_answer_state]\n",
    "        y_cor = data.y[index_answer_state]\n",
    "        state.penup()\n",
    "        state.goto(x_cor, y_cor)    \n",
    "        state.write(answer_state, move=False, align=\"center\", font=(\"Arial\", 12, \"normal\"))\n",
    "        all_correct_answers.append(answer_state)\n",
    "        \n",
    "        if len(all_correct_answers) == 50:\n",
    "            game_is_on = False\n",
    "            \n",
    "    else:\n",
    "        continue\n",
    "    \n",
    "    \n",
    "screen.exitonclick()"
   ]
  },
  {
   "cell_type": "code",
   "execution_count": null,
   "metadata": {},
   "outputs": [],
   "source": []
  }
 ],
 "metadata": {
  "kernelspec": {
   "display_name": "Python 3",
   "language": "python",
   "name": "python3"
  },
  "language_info": {
   "codemirror_mode": {
    "name": "ipython",
    "version": 3
   },
   "file_extension": ".py",
   "mimetype": "text/x-python",
   "name": "python",
   "nbconvert_exporter": "python",
   "pygments_lexer": "ipython3",
   "version": "3.8.5"
  }
 },
 "nbformat": 4,
 "nbformat_minor": 4
}
