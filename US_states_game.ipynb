{
 "cells": [
  {
   "cell_type": "markdown",
   "metadata": {},
   "source": [
    "# US STATES GAME"
   ]
  },
  {
   "cell_type": "code",
   "execution_count": 1,
   "metadata": {
    "collapsed": true,
    "jupyter": {
     "outputs_hidden": true
    }
   },
   "outputs": [
    {
     "ename": "AttributeError",
     "evalue": "'NoneType' object has no attribute 'title'",
     "output_type": "error",
     "traceback": [
      "\u001b[0;31m---------------------------------------------------------------------------\u001b[0m",
      "\u001b[0;31mAttributeError\u001b[0m                            Traceback (most recent call last)",
      "\u001b[0;32m<ipython-input-1-dc70c3c4eb8f>\u001b[0m in \u001b[0;36m<module>\u001b[0;34m\u001b[0m\n\u001b[1;32m     24\u001b[0m \u001b[0;32mwhile\u001b[0m \u001b[0mgame_is_on\u001b[0m\u001b[0;34m:\u001b[0m\u001b[0;34m\u001b[0m\u001b[0;34m\u001b[0m\u001b[0m\n\u001b[1;32m     25\u001b[0m \u001b[0;34m\u001b[0m\u001b[0m\n\u001b[0;32m---> 26\u001b[0;31m     \u001b[0manswer_state\u001b[0m \u001b[0;34m=\u001b[0m \u001b[0mscreen\u001b[0m\u001b[0;34m.\u001b[0m\u001b[0mtextinput\u001b[0m\u001b[0;34m(\u001b[0m\u001b[0mtitle\u001b[0m \u001b[0;34m=\u001b[0m \u001b[0;34mf\"{len(all_correct_answers)}/50 States correct\"\u001b[0m\u001b[0;34m,\u001b[0m \u001b[0mprompt\u001b[0m \u001b[0;34m=\u001b[0m \u001b[0;34m\"What is another State's name\"\u001b[0m\u001b[0;34m)\u001b[0m\u001b[0;34m.\u001b[0m\u001b[0mtitle\u001b[0m\u001b[0;34m(\u001b[0m\u001b[0;34m)\u001b[0m\u001b[0;34m\u001b[0m\u001b[0;34m\u001b[0m\u001b[0m\n\u001b[0m\u001b[1;32m     27\u001b[0m \u001b[0;34m\u001b[0m\u001b[0m\n\u001b[1;32m     28\u001b[0m     \u001b[0;31m# detect repeatedly entered states\u001b[0m\u001b[0;34m\u001b[0m\u001b[0;34m\u001b[0m\u001b[0;34m\u001b[0m\u001b[0m\n",
      "\u001b[0;31mAttributeError\u001b[0m: 'NoneType' object has no attribute 'title'"
     ]
    }
   ],
   "source": [
    "import turtle\n",
    "from turtle import Turtle\n",
    "import pandas as pd\n",
    "\n",
    "data = pd.read_csv('50_states.csv')\n",
    "all_states = data.state.to_list()\n",
    "\n",
    "\n",
    "\n",
    "# collect all correct answers\n",
    "all_correct_answers = []\n",
    "\n",
    "\n",
    "screen = turtle.Screen()\n",
    "screen.title(\"US States Game\")\n",
    "image = 'blank_states_img.gif'\n",
    "screen.addshape(image)\n",
    "turtle.shape(image)\n",
    "\n",
    "state = Turtle()\n",
    "state.hideturtle()\n",
    "\n",
    "game_is_on = True\n",
    "while game_is_on:\n",
    "    \n",
    "    answer_state = screen.textinput(title = f\"{len(all_correct_answers)}/50 States correct\", prompt = \"What is another State's name\").title()\n",
    "\n",
    "    # detect repeatedly entered states\n",
    "    if answer_state in all_correct_answers:\n",
    "        continue\n",
    "    \n",
    "    # check whether state is in  50 states\n",
    "    if answer_state in all_states:\n",
    "        index_answer_state = all_states.index(answer_state)\n",
    "        x_cor = data.x[index_answer_state]\n",
    "        y_cor = data.y[index_answer_state]\n",
    "        state.penup()\n",
    "        state.goto(x_cor, y_cor)    \n",
    "        state.write(answer_state, move=False, align=\"center\", font=(\"Arial\", 12, \"normal\"))\n",
    "        all_correct_answers.append(answer_state)\n",
    "        \n",
    "        if len(all_correct_answers) == 50:\n",
    "            game_is_on = False\n",
    "            \n",
    "    else:\n",
    "        continue\n",
    "    \n",
    "    \n",
    "screen.exitonclick()"
   ]
  }
 
